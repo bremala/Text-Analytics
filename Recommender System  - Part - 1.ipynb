{
 "cells": [
  {
   "cell_type": "markdown",
   "metadata": {},
   "source": [
    "# Unstructured Data to Structured Data - Amazon Reviews"
   ]
  },
  {
   "cell_type": "markdown",
   "metadata": {},
   "source": [
    "## Dataset Reading"
   ]
  },
  {
   "cell_type": "code",
   "execution_count": 2,
   "metadata": {},
   "outputs": [
    {
     "name": "stdout",
     "output_type": "stream",
     "text": [
      "Populating the interactive namespace from numpy and matplotlib\n"
     ]
    }
   ],
   "source": [
    "%pylab inline\n",
    "%matplotlib inline\n",
    "\n",
    "import json,pandas,glob\n",
    "import os.path\n",
    "import numpy as np\n",
    "import matplotlib.pyplot as plt\n",
    "import numpy as np\n",
    "from scipy import stats"
   ]
  },
  {
   "cell_type": "code",
   "execution_count": 3,
   "metadata": {
    "scrolled": false
   },
   "outputs": [
    {
     "data": {
      "text/html": [
       "<div>\n",
       "<style>\n",
       "    .dataframe thead tr:only-child th {\n",
       "        text-align: right;\n",
       "    }\n",
       "\n",
       "    .dataframe thead th {\n",
       "        text-align: left;\n",
       "    }\n",
       "\n",
       "    .dataframe tbody tr th {\n",
       "        vertical-align: top;\n",
       "    }\n",
       "</style>\n",
       "<table border=\"1\" class=\"dataframe\">\n",
       "  <thead>\n",
       "    <tr style=\"text-align: right;\">\n",
       "      <th></th>\n",
       "      <th>Author</th>\n",
       "      <th>Content</th>\n",
       "      <th>Date</th>\n",
       "      <th>Features</th>\n",
       "      <th>Name</th>\n",
       "      <th>Overall</th>\n",
       "      <th>Price</th>\n",
       "      <th>ProductID</th>\n",
       "      <th>ReviewID</th>\n",
       "      <th>Title</th>\n",
       "    </tr>\n",
       "  </thead>\n",
       "  <tbody>\n",
       "    <tr>\n",
       "      <th>0</th>\n",
       "      <td>Peter in McLean \"PeterK\"</td>\n",
       "      <td>I've had the S7-391 with 4Gb RAM and a 256 GB ...</td>\n",
       "      <td>November 29, 2013</td>\n",
       "      <td>Intel Core i5-3337U 1.8 GHz (3 MB Cache)\\n4 GB...</td>\n",
       "      <td>Acer Aspire S7-391-6468 13.3-Inch Touchscreen ...</td>\n",
       "      <td>3.0</td>\n",
       "      <td>$1,299.99</td>\n",
       "      <td>B00AVYPLF4</td>\n",
       "      <td>R1S7JV3G6KBOTU</td>\n",
       "      <td>Thin, light and good screen. Mediocre battery ...</td>\n",
       "    </tr>\n",
       "    <tr>\n",
       "      <th>1</th>\n",
       "      <td>tungty</td>\n",
       "      <td>This would be a 5-star review if it were not f...</td>\n",
       "      <td>June 16, 2013</td>\n",
       "      <td>Intel Core i5-3337U 1.8 GHz (3 MB Cache)\\n4 GB...</td>\n",
       "      <td>Acer Aspire S7-391-6468 13.3-Inch Touchscreen ...</td>\n",
       "      <td>4.0</td>\n",
       "      <td>$1,299.99</td>\n",
       "      <td>B00AVYPLF4</td>\n",
       "      <td>R2HU61RJX6H19A</td>\n",
       "      <td>Beautiful, light computer but Acer Quality Con...</td>\n",
       "    </tr>\n",
       "    <tr>\n",
       "      <th>2</th>\n",
       "      <td>Julio Perez</td>\n",
       "      <td>Exactly as described! Fast laptop. One of the ...</td>\n",
       "      <td>May 17, 2013</td>\n",
       "      <td>Intel Core i5-3337U 1.8 GHz (3 MB Cache)\\n4 GB...</td>\n",
       "      <td>Acer Aspire S7-391-6468 13.3-Inch Touchscreen ...</td>\n",
       "      <td>5.0</td>\n",
       "      <td>$1,299.99</td>\n",
       "      <td>B00AVYPLF4</td>\n",
       "      <td>R2W94ZVV3L452Z</td>\n",
       "      <td>Great device!</td>\n",
       "    </tr>\n",
       "    <tr>\n",
       "      <th>3</th>\n",
       "      <td>rid1</td>\n",
       "      <td>I bought this laptop after doing my research a...</td>\n",
       "      <td>May 5, 2013</td>\n",
       "      <td>Intel Core i5-3337U 1.8 GHz (3 MB Cache)\\n4 GB...</td>\n",
       "      <td>Acer Aspire S7-391-6468 13.3-Inch Touchscreen ...</td>\n",
       "      <td>5.0</td>\n",
       "      <td>$1,299.99</td>\n",
       "      <td>B00AVYPLF4</td>\n",
       "      <td>R1NA3QNCRJ297N</td>\n",
       "      <td>Quite good</td>\n",
       "    </tr>\n",
       "    <tr>\n",
       "      <th>4</th>\n",
       "      <td>Rev</td>\n",
       "      <td>After living with the Aspire S7 for 5 months, ...</td>\n",
       "      <td>August 21, 2013</td>\n",
       "      <td>Intel Core i5-3337U 1.8 GHz (3 MB Cache)\\n4 GB...</td>\n",
       "      <td>Acer Aspire S7-391-6468 13.3-Inch Touchscreen ...</td>\n",
       "      <td>1.0</td>\n",
       "      <td>$1,299.99</td>\n",
       "      <td>B00AVYPLF4</td>\n",
       "      <td>R1CYHY70XPLRNA</td>\n",
       "      <td>Very disappointing</td>\n",
       "    </tr>\n",
       "  </tbody>\n",
       "</table>\n",
       "</div>"
      ],
      "text/plain": [
       "                     Author  \\\n",
       "0  Peter in McLean \"PeterK\"   \n",
       "1                    tungty   \n",
       "2               Julio Perez   \n",
       "3                      rid1   \n",
       "4                       Rev   \n",
       "\n",
       "                                             Content               Date  \\\n",
       "0  I've had the S7-391 with 4Gb RAM and a 256 GB ...  November 29, 2013   \n",
       "1  This would be a 5-star review if it were not f...      June 16, 2013   \n",
       "2  Exactly as described! Fast laptop. One of the ...       May 17, 2013   \n",
       "3  I bought this laptop after doing my research a...        May 5, 2013   \n",
       "4  After living with the Aspire S7 for 5 months, ...    August 21, 2013   \n",
       "\n",
       "                                            Features  \\\n",
       "0  Intel Core i5-3337U 1.8 GHz (3 MB Cache)\\n4 GB...   \n",
       "1  Intel Core i5-3337U 1.8 GHz (3 MB Cache)\\n4 GB...   \n",
       "2  Intel Core i5-3337U 1.8 GHz (3 MB Cache)\\n4 GB...   \n",
       "3  Intel Core i5-3337U 1.8 GHz (3 MB Cache)\\n4 GB...   \n",
       "4  Intel Core i5-3337U 1.8 GHz (3 MB Cache)\\n4 GB...   \n",
       "\n",
       "                                                Name Overall      Price  \\\n",
       "0  Acer Aspire S7-391-6468 13.3-Inch Touchscreen ...     3.0  $1,299.99   \n",
       "1  Acer Aspire S7-391-6468 13.3-Inch Touchscreen ...     4.0  $1,299.99   \n",
       "2  Acer Aspire S7-391-6468 13.3-Inch Touchscreen ...     5.0  $1,299.99   \n",
       "3  Acer Aspire S7-391-6468 13.3-Inch Touchscreen ...     5.0  $1,299.99   \n",
       "4  Acer Aspire S7-391-6468 13.3-Inch Touchscreen ...     1.0  $1,299.99   \n",
       "\n",
       "    ProductID        ReviewID  \\\n",
       "0  B00AVYPLF4  R1S7JV3G6KBOTU   \n",
       "1  B00AVYPLF4  R2HU61RJX6H19A   \n",
       "2  B00AVYPLF4  R2W94ZVV3L452Z   \n",
       "3  B00AVYPLF4  R1NA3QNCRJ297N   \n",
       "4  B00AVYPLF4  R1CYHY70XPLRNA   \n",
       "\n",
       "                                               Title  \n",
       "0  Thin, light and good screen. Mediocre battery ...  \n",
       "1  Beautiful, light computer but Acer Quality Con...  \n",
       "2                                      Great device!  \n",
       "3                                         Quite good  \n",
       "4                                 Very disappointing  "
      ]
     },
     "execution_count": 3,
     "metadata": {},
     "output_type": "execute_result"
    }
   ],
   "source": [
    "read_files = glob.glob(\"Data/laptops/*.json\")\n",
    "Final_Laptops = pandas.DataFrame()\n",
    "for i in range(0,len(read_files)):\n",
    "    with open(read_files[i], 'rb') as x:\n",
    "        JSONFILE = json.load(x)\n",
    "    prod = JSONFILE['ProductInfo']\n",
    "    Review = JSONFILE['Reviews']\n",
    "    #d1.append(prod)\n",
    "    #d2.append(Review)\n",
    "    Reviews = pandas.DataFrame(Review)\n",
    "    Products = pandas.DataFrame(prod, index = Reviews.index)\n",
    "    merge = pandas.concat([Reviews, Products], axis=1,join = 'inner')\n",
    "    Final_Laptops = pandas.concat([Final_Laptops,merge])\n",
    "    #Final_Laptops.drop('ImgURL')\n",
    "    Final_Laptops = Final_Laptops.drop('ImgURL', axis = 1)\n",
    "Final_Laptops.head()"
   ]
  },
  {
   "cell_type": "code",
   "execution_count": 4,
   "metadata": {
    "collapsed": true
   },
   "outputs": [],
   "source": [
    "Final_DF = Final_Laptops.set_index('ProductID')"
   ]
  },
  {
   "cell_type": "markdown",
   "metadata": {},
   "source": [
    "## Data Filtering"
   ]
  },
  {
   "cell_type": "code",
   "execution_count": 5,
   "metadata": {
    "collapsed": true
   },
   "outputs": [],
   "source": [
    "Final_DF_notnull = Final_DF[Final_DF['Name'].notnull()]"
   ]
  },
  {
   "cell_type": "code",
   "execution_count": 6,
   "metadata": {
    "collapsed": true
   },
   "outputs": [],
   "source": [
    "Final_DF_null = Final_DF[Final_DF['Name'].isnull()]"
   ]
  },
  {
   "cell_type": "code",
   "execution_count": 7,
   "metadata": {},
   "outputs": [
    {
     "data": {
      "text/plain": [
       "Sentiment(polarity=-0.20000000000000004, subjectivity=0.8416666666666668)"
      ]
     },
     "execution_count": 7,
     "metadata": {},
     "output_type": "execute_result"
    }
   ],
   "source": [
    "from textblob import TextBlob, Word\n",
    "\n",
    "x = TextBlob(Final_DF.Title[0])\n",
    "\n",
    "p_of_s = x.tags #parts of speech tags\n",
    "\n",
    "len(x.words) #word count\n",
    "\n",
    "x.sentiment #shows pos and neg score"
   ]
  },
  {
   "cell_type": "code",
   "execution_count": 8,
   "metadata": {},
   "outputs": [
    {
     "data": {
      "text/plain": [
       "TextBlob(\"Thin, light and good screen. Mediocre battery life, funky WiFi and BT. Typing is miserable and frustrating.\")"
      ]
     },
     "execution_count": 8,
     "metadata": {},
     "output_type": "execute_result"
    }
   ],
   "source": [
    "x"
   ]
  },
  {
   "cell_type": "code",
   "execution_count": 9,
   "metadata": {
    "scrolled": true
   },
   "outputs": [
    {
     "data": {
      "text/plain": [
       "ProductID\n",
       "B00AVYPLF4    Thin, light and good screen. Mediocre battery ...\n",
       "B00AVYPLF4    Beautiful, light computer but Acer Quality Con...\n",
       "B00AVYPLF4                                        Great device!\n",
       "B00AVYPLF4                                           Quite good\n",
       "B00AVYPLF4                                   Very disappointing\n",
       "Name: Title, dtype: object"
      ]
     },
     "execution_count": 9,
     "metadata": {},
     "output_type": "execute_result"
    }
   ],
   "source": [
    "Final_DF_notnull.Title.head()"
   ]
  },
  {
   "cell_type": "code",
   "execution_count": 10,
   "metadata": {},
   "outputs": [
    {
     "data": {
      "text/plain": [
       "Author      20642\n",
       "Content     20666\n",
       "Date        20669\n",
       "Features    20577\n",
       "Name        20670\n",
       "Overall     20670\n",
       "Price       19377\n",
       "ReviewID    20670\n",
       "Title       20670\n",
       "dtype: int64"
      ]
     },
     "execution_count": 10,
     "metadata": {},
     "output_type": "execute_result"
    }
   ],
   "source": [
    "Final_DF_notnull.count()"
   ]
  },
  {
   "cell_type": "markdown",
   "metadata": {},
   "source": [
    "## Data Cleaning"
   ]
  },
  {
   "cell_type": "code",
   "execution_count": 11,
   "metadata": {
    "collapsed": true
   },
   "outputs": [],
   "source": [
    "Final_DF_Names = Final_DF_notnull.Name.str.lower()\n",
    "Final_DF_Content = Final_DF_notnull.Content.str.lower()\n",
    "Final_DF_Features = Final_DF_notnull.Features.str.lower()"
   ]
  },
  {
   "cell_type": "code",
   "execution_count": 12,
   "metadata": {},
   "outputs": [
    {
     "data": {
      "text/html": [
       "<div>\n",
       "<style>\n",
       "    .dataframe thead tr:only-child th {\n",
       "        text-align: right;\n",
       "    }\n",
       "\n",
       "    .dataframe thead th {\n",
       "        text-align: left;\n",
       "    }\n",
       "\n",
       "    .dataframe tbody tr th {\n",
       "        vertical-align: top;\n",
       "    }\n",
       "</style>\n",
       "<table border=\"1\" class=\"dataframe\">\n",
       "  <thead>\n",
       "    <tr style=\"text-align: right;\">\n",
       "      <th></th>\n",
       "      <th>Product Name</th>\n",
       "    </tr>\n",
       "    <tr>\n",
       "      <th>ProductID</th>\n",
       "      <th></th>\n",
       "    </tr>\n",
       "  </thead>\n",
       "  <tbody>\n",
       "    <tr>\n",
       "      <th>B00AVYPLF4</th>\n",
       "      <td>acer aspire s7-391-6468 13.3-inch touchscreen ...</td>\n",
       "    </tr>\n",
       "    <tr>\n",
       "      <th>B00AVYPLF4</th>\n",
       "      <td>acer aspire s7-391-6468 13.3-inch touchscreen ...</td>\n",
       "    </tr>\n",
       "    <tr>\n",
       "      <th>B00AVYPLF4</th>\n",
       "      <td>acer aspire s7-391-6468 13.3-inch touchscreen ...</td>\n",
       "    </tr>\n",
       "    <tr>\n",
       "      <th>B00AVYPLF4</th>\n",
       "      <td>acer aspire s7-391-6468 13.3-inch touchscreen ...</td>\n",
       "    </tr>\n",
       "    <tr>\n",
       "      <th>B00AVYPLF4</th>\n",
       "      <td>acer aspire s7-391-6468 13.3-inch touchscreen ...</td>\n",
       "    </tr>\n",
       "  </tbody>\n",
       "</table>\n",
       "</div>"
      ],
      "text/plain": [
       "                                                 Product Name\n",
       "ProductID                                                    \n",
       "B00AVYPLF4  acer aspire s7-391-6468 13.3-inch touchscreen ...\n",
       "B00AVYPLF4  acer aspire s7-391-6468 13.3-inch touchscreen ...\n",
       "B00AVYPLF4  acer aspire s7-391-6468 13.3-inch touchscreen ...\n",
       "B00AVYPLF4  acer aspire s7-391-6468 13.3-inch touchscreen ...\n",
       "B00AVYPLF4  acer aspire s7-391-6468 13.3-inch touchscreen ..."
      ]
     },
     "execution_count": 12,
     "metadata": {},
     "output_type": "execute_result"
    }
   ],
   "source": [
    "Makes = Final_DF_Names.str.split().str.get(0)\n",
    "Content_DF = Final_DF_Content.to_frame('content')\n",
    "Makes_DF = Makes.to_frame('Make')\n",
    "Features_DF = Final_DF_Features.to_frame('features')\n",
    "Names_DF = Final_DF_Names.to_frame('Product Name')\n",
    "Names_DF[:5]"
   ]
  },
  {
   "cell_type": "code",
   "execution_count": 13,
   "metadata": {
    "collapsed": true
   },
   "outputs": [],
   "source": [
    "dataFrame = pandas.concat([Final_DF_notnull, Makes_DF, Names_DF, Content_DF, Features_DF],axis = 1, join_axes=[Final_DF_notnull.index])"
   ]
  },
  {
   "cell_type": "code",
   "execution_count": 14,
   "metadata": {
    "scrolled": false
   },
   "outputs": [
    {
     "data": {
      "text/html": [
       "<div>\n",
       "<style>\n",
       "    .dataframe thead tr:only-child th {\n",
       "        text-align: right;\n",
       "    }\n",
       "\n",
       "    .dataframe thead th {\n",
       "        text-align: left;\n",
       "    }\n",
       "\n",
       "    .dataframe tbody tr th {\n",
       "        vertical-align: top;\n",
       "    }\n",
       "</style>\n",
       "<table border=\"1\" class=\"dataframe\">\n",
       "  <thead>\n",
       "    <tr style=\"text-align: right;\">\n",
       "      <th></th>\n",
       "      <th>Author</th>\n",
       "      <th>Content</th>\n",
       "      <th>Date</th>\n",
       "      <th>Features</th>\n",
       "      <th>Name</th>\n",
       "      <th>Overall</th>\n",
       "      <th>Price</th>\n",
       "      <th>ReviewID</th>\n",
       "      <th>Title</th>\n",
       "      <th>Make</th>\n",
       "      <th>Product Name</th>\n",
       "      <th>content</th>\n",
       "      <th>features</th>\n",
       "    </tr>\n",
       "    <tr>\n",
       "      <th>ProductID</th>\n",
       "      <th></th>\n",
       "      <th></th>\n",
       "      <th></th>\n",
       "      <th></th>\n",
       "      <th></th>\n",
       "      <th></th>\n",
       "      <th></th>\n",
       "      <th></th>\n",
       "      <th></th>\n",
       "      <th></th>\n",
       "      <th></th>\n",
       "      <th></th>\n",
       "      <th></th>\n",
       "    </tr>\n",
       "  </thead>\n",
       "  <tbody>\n",
       "    <tr>\n",
       "      <th>B00AVYPLF4</th>\n",
       "      <td>Peter in McLean \"PeterK\"</td>\n",
       "      <td>I've had the S7-391 with 4Gb RAM and a 256 GB ...</td>\n",
       "      <td>November 29, 2013</td>\n",
       "      <td>Intel Core i5-3337U 1.8 GHz (3 MB Cache)\\n4 GB...</td>\n",
       "      <td>Acer Aspire S7-391-6468 13.3-Inch Touchscreen ...</td>\n",
       "      <td>3.0</td>\n",
       "      <td>$1,299.99</td>\n",
       "      <td>R1S7JV3G6KBOTU</td>\n",
       "      <td>Thin, light and good screen. Mediocre battery ...</td>\n",
       "      <td>acer</td>\n",
       "      <td>acer aspire s7-391-6468 13.3-inch touchscreen ...</td>\n",
       "      <td>i've had the s7-391 with 4gb ram and a 256 gb ...</td>\n",
       "      <td>intel core i5-3337u 1.8 ghz (3 mb cache)\\n4 gb...</td>\n",
       "    </tr>\n",
       "    <tr>\n",
       "      <th>B00AVYPLF4</th>\n",
       "      <td>tungty</td>\n",
       "      <td>This would be a 5-star review if it were not f...</td>\n",
       "      <td>June 16, 2013</td>\n",
       "      <td>Intel Core i5-3337U 1.8 GHz (3 MB Cache)\\n4 GB...</td>\n",
       "      <td>Acer Aspire S7-391-6468 13.3-Inch Touchscreen ...</td>\n",
       "      <td>4.0</td>\n",
       "      <td>$1,299.99</td>\n",
       "      <td>R2HU61RJX6H19A</td>\n",
       "      <td>Beautiful, light computer but Acer Quality Con...</td>\n",
       "      <td>acer</td>\n",
       "      <td>acer aspire s7-391-6468 13.3-inch touchscreen ...</td>\n",
       "      <td>this would be a 5-star review if it were not f...</td>\n",
       "      <td>intel core i5-3337u 1.8 ghz (3 mb cache)\\n4 gb...</td>\n",
       "    </tr>\n",
       "    <tr>\n",
       "      <th>B00AVYPLF4</th>\n",
       "      <td>Julio Perez</td>\n",
       "      <td>Exactly as described! Fast laptop. One of the ...</td>\n",
       "      <td>May 17, 2013</td>\n",
       "      <td>Intel Core i5-3337U 1.8 GHz (3 MB Cache)\\n4 GB...</td>\n",
       "      <td>Acer Aspire S7-391-6468 13.3-Inch Touchscreen ...</td>\n",
       "      <td>5.0</td>\n",
       "      <td>$1,299.99</td>\n",
       "      <td>R2W94ZVV3L452Z</td>\n",
       "      <td>Great device!</td>\n",
       "      <td>acer</td>\n",
       "      <td>acer aspire s7-391-6468 13.3-inch touchscreen ...</td>\n",
       "      <td>exactly as described! fast laptop. one of the ...</td>\n",
       "      <td>intel core i5-3337u 1.8 ghz (3 mb cache)\\n4 gb...</td>\n",
       "    </tr>\n",
       "    <tr>\n",
       "      <th>B00AVYPLF4</th>\n",
       "      <td>rid1</td>\n",
       "      <td>I bought this laptop after doing my research a...</td>\n",
       "      <td>May 5, 2013</td>\n",
       "      <td>Intel Core i5-3337U 1.8 GHz (3 MB Cache)\\n4 GB...</td>\n",
       "      <td>Acer Aspire S7-391-6468 13.3-Inch Touchscreen ...</td>\n",
       "      <td>5.0</td>\n",
       "      <td>$1,299.99</td>\n",
       "      <td>R1NA3QNCRJ297N</td>\n",
       "      <td>Quite good</td>\n",
       "      <td>acer</td>\n",
       "      <td>acer aspire s7-391-6468 13.3-inch touchscreen ...</td>\n",
       "      <td>i bought this laptop after doing my research a...</td>\n",
       "      <td>intel core i5-3337u 1.8 ghz (3 mb cache)\\n4 gb...</td>\n",
       "    </tr>\n",
       "    <tr>\n",
       "      <th>B00AVYPLF4</th>\n",
       "      <td>Rev</td>\n",
       "      <td>After living with the Aspire S7 for 5 months, ...</td>\n",
       "      <td>August 21, 2013</td>\n",
       "      <td>Intel Core i5-3337U 1.8 GHz (3 MB Cache)\\n4 GB...</td>\n",
       "      <td>Acer Aspire S7-391-6468 13.3-Inch Touchscreen ...</td>\n",
       "      <td>1.0</td>\n",
       "      <td>$1,299.99</td>\n",
       "      <td>R1CYHY70XPLRNA</td>\n",
       "      <td>Very disappointing</td>\n",
       "      <td>acer</td>\n",
       "      <td>acer aspire s7-391-6468 13.3-inch touchscreen ...</td>\n",
       "      <td>after living with the aspire s7 for 5 months, ...</td>\n",
       "      <td>intel core i5-3337u 1.8 ghz (3 mb cache)\\n4 gb...</td>\n",
       "    </tr>\n",
       "  </tbody>\n",
       "</table>\n",
       "</div>"
      ],
      "text/plain": [
       "                              Author  \\\n",
       "ProductID                              \n",
       "B00AVYPLF4  Peter in McLean \"PeterK\"   \n",
       "B00AVYPLF4                    tungty   \n",
       "B00AVYPLF4               Julio Perez   \n",
       "B00AVYPLF4                      rid1   \n",
       "B00AVYPLF4                       Rev   \n",
       "\n",
       "                                                      Content  \\\n",
       "ProductID                                                       \n",
       "B00AVYPLF4  I've had the S7-391 with 4Gb RAM and a 256 GB ...   \n",
       "B00AVYPLF4  This would be a 5-star review if it were not f...   \n",
       "B00AVYPLF4  Exactly as described! Fast laptop. One of the ...   \n",
       "B00AVYPLF4  I bought this laptop after doing my research a...   \n",
       "B00AVYPLF4  After living with the Aspire S7 for 5 months, ...   \n",
       "\n",
       "                         Date  \\\n",
       "ProductID                       \n",
       "B00AVYPLF4  November 29, 2013   \n",
       "B00AVYPLF4      June 16, 2013   \n",
       "B00AVYPLF4       May 17, 2013   \n",
       "B00AVYPLF4        May 5, 2013   \n",
       "B00AVYPLF4    August 21, 2013   \n",
       "\n",
       "                                                     Features  \\\n",
       "ProductID                                                       \n",
       "B00AVYPLF4  Intel Core i5-3337U 1.8 GHz (3 MB Cache)\\n4 GB...   \n",
       "B00AVYPLF4  Intel Core i5-3337U 1.8 GHz (3 MB Cache)\\n4 GB...   \n",
       "B00AVYPLF4  Intel Core i5-3337U 1.8 GHz (3 MB Cache)\\n4 GB...   \n",
       "B00AVYPLF4  Intel Core i5-3337U 1.8 GHz (3 MB Cache)\\n4 GB...   \n",
       "B00AVYPLF4  Intel Core i5-3337U 1.8 GHz (3 MB Cache)\\n4 GB...   \n",
       "\n",
       "                                                         Name Overall  \\\n",
       "ProductID                                                               \n",
       "B00AVYPLF4  Acer Aspire S7-391-6468 13.3-Inch Touchscreen ...     3.0   \n",
       "B00AVYPLF4  Acer Aspire S7-391-6468 13.3-Inch Touchscreen ...     4.0   \n",
       "B00AVYPLF4  Acer Aspire S7-391-6468 13.3-Inch Touchscreen ...     5.0   \n",
       "B00AVYPLF4  Acer Aspire S7-391-6468 13.3-Inch Touchscreen ...     5.0   \n",
       "B00AVYPLF4  Acer Aspire S7-391-6468 13.3-Inch Touchscreen ...     1.0   \n",
       "\n",
       "                Price        ReviewID  \\\n",
       "ProductID                               \n",
       "B00AVYPLF4  $1,299.99  R1S7JV3G6KBOTU   \n",
       "B00AVYPLF4  $1,299.99  R2HU61RJX6H19A   \n",
       "B00AVYPLF4  $1,299.99  R2W94ZVV3L452Z   \n",
       "B00AVYPLF4  $1,299.99  R1NA3QNCRJ297N   \n",
       "B00AVYPLF4  $1,299.99  R1CYHY70XPLRNA   \n",
       "\n",
       "                                                        Title  Make  \\\n",
       "ProductID                                                             \n",
       "B00AVYPLF4  Thin, light and good screen. Mediocre battery ...  acer   \n",
       "B00AVYPLF4  Beautiful, light computer but Acer Quality Con...  acer   \n",
       "B00AVYPLF4                                      Great device!  acer   \n",
       "B00AVYPLF4                                         Quite good  acer   \n",
       "B00AVYPLF4                                 Very disappointing  acer   \n",
       "\n",
       "                                                 Product Name  \\\n",
       "ProductID                                                       \n",
       "B00AVYPLF4  acer aspire s7-391-6468 13.3-inch touchscreen ...   \n",
       "B00AVYPLF4  acer aspire s7-391-6468 13.3-inch touchscreen ...   \n",
       "B00AVYPLF4  acer aspire s7-391-6468 13.3-inch touchscreen ...   \n",
       "B00AVYPLF4  acer aspire s7-391-6468 13.3-inch touchscreen ...   \n",
       "B00AVYPLF4  acer aspire s7-391-6468 13.3-inch touchscreen ...   \n",
       "\n",
       "                                                      content  \\\n",
       "ProductID                                                       \n",
       "B00AVYPLF4  i've had the s7-391 with 4gb ram and a 256 gb ...   \n",
       "B00AVYPLF4  this would be a 5-star review if it were not f...   \n",
       "B00AVYPLF4  exactly as described! fast laptop. one of the ...   \n",
       "B00AVYPLF4  i bought this laptop after doing my research a...   \n",
       "B00AVYPLF4  after living with the aspire s7 for 5 months, ...   \n",
       "\n",
       "                                                     features  \n",
       "ProductID                                                      \n",
       "B00AVYPLF4  intel core i5-3337u 1.8 ghz (3 mb cache)\\n4 gb...  \n",
       "B00AVYPLF4  intel core i5-3337u 1.8 ghz (3 mb cache)\\n4 gb...  \n",
       "B00AVYPLF4  intel core i5-3337u 1.8 ghz (3 mb cache)\\n4 gb...  \n",
       "B00AVYPLF4  intel core i5-3337u 1.8 ghz (3 mb cache)\\n4 gb...  \n",
       "B00AVYPLF4  intel core i5-3337u 1.8 ghz (3 mb cache)\\n4 gb...  "
      ]
     },
     "execution_count": 14,
     "metadata": {},
     "output_type": "execute_result"
    }
   ],
   "source": [
    "dataFrame.head()"
   ]
  },
  {
   "cell_type": "code",
   "execution_count": 15,
   "metadata": {
    "collapsed": true
   },
   "outputs": [],
   "source": [
    "dataFrame = dataFrame.drop(['Content', 'Features','Name'], axis=1)"
   ]
  },
  {
   "cell_type": "code",
   "execution_count": 16,
   "metadata": {
    "collapsed": true
   },
   "outputs": [],
   "source": [
    "dataFrame = dataFrame.loc[dataFrame['Make'].isin(['asus','apple','acer','hp','samsung','dell','lenovo','toshiba','gateway','sony'])]"
   ]
  },
  {
   "cell_type": "code",
   "execution_count": 17,
   "metadata": {
    "collapsed": true
   },
   "outputs": [],
   "source": [
    "dataFrame = dataFrame.reset_index()"
   ]
  },
  {
   "cell_type": "code",
   "execution_count": 18,
   "metadata": {
    "collapsed": true
   },
   "outputs": [],
   "source": [
    "df_year = dataFrame['Date'][dataFrame['Date'].notnull()].str.split().str.get(2).to_frame('Year')"
   ]
  },
  {
   "cell_type": "code",
   "execution_count": 19,
   "metadata": {
    "collapsed": true
   },
   "outputs": [],
   "source": [
    "dataFrame = dataFrame.join(df_year)"
   ]
  },
  {
   "cell_type": "code",
   "execution_count": 20,
   "metadata": {
    "scrolled": false
   },
   "outputs": [
    {
     "data": {
      "text/html": [
       "<div>\n",
       "<style>\n",
       "    .dataframe thead tr:only-child th {\n",
       "        text-align: right;\n",
       "    }\n",
       "\n",
       "    .dataframe thead th {\n",
       "        text-align: left;\n",
       "    }\n",
       "\n",
       "    .dataframe tbody tr th {\n",
       "        vertical-align: top;\n",
       "    }\n",
       "</style>\n",
       "<table border=\"1\" class=\"dataframe\">\n",
       "  <thead>\n",
       "    <tr style=\"text-align: right;\">\n",
       "      <th></th>\n",
       "      <th>ProductID</th>\n",
       "      <th>Author</th>\n",
       "      <th>Date</th>\n",
       "      <th>Overall</th>\n",
       "      <th>Price</th>\n",
       "      <th>ReviewID</th>\n",
       "      <th>Title</th>\n",
       "      <th>Make</th>\n",
       "      <th>Product Name</th>\n",
       "      <th>content</th>\n",
       "      <th>features</th>\n",
       "      <th>Year</th>\n",
       "    </tr>\n",
       "  </thead>\n",
       "  <tbody>\n",
       "    <tr>\n",
       "      <th>0</th>\n",
       "      <td>B00AVYPLF4</td>\n",
       "      <td>Peter in McLean \"PeterK\"</td>\n",
       "      <td>November 29, 2013</td>\n",
       "      <td>3.0</td>\n",
       "      <td>1299.99</td>\n",
       "      <td>R1S7JV3G6KBOTU</td>\n",
       "      <td>Thin, light and good screen. Mediocre battery ...</td>\n",
       "      <td>acer</td>\n",
       "      <td>acer aspire s7-391-6468 13.3-inch touchscreen ...</td>\n",
       "      <td>i've had the s7-391 with 4gb ram and a 256 gb ...</td>\n",
       "      <td>intel core i5-3337u 1.8 ghz (3 mb cache)\\n4 gb...</td>\n",
       "      <td>2013</td>\n",
       "    </tr>\n",
       "    <tr>\n",
       "      <th>1</th>\n",
       "      <td>B00AVYPLF4</td>\n",
       "      <td>tungty</td>\n",
       "      <td>June 16, 2013</td>\n",
       "      <td>4.0</td>\n",
       "      <td>1299.99</td>\n",
       "      <td>R2HU61RJX6H19A</td>\n",
       "      <td>Beautiful, light computer but Acer Quality Con...</td>\n",
       "      <td>acer</td>\n",
       "      <td>acer aspire s7-391-6468 13.3-inch touchscreen ...</td>\n",
       "      <td>this would be a 5-star review if it were not f...</td>\n",
       "      <td>intel core i5-3337u 1.8 ghz (3 mb cache)\\n4 gb...</td>\n",
       "      <td>2013</td>\n",
       "    </tr>\n",
       "    <tr>\n",
       "      <th>2</th>\n",
       "      <td>B00AVYPLF4</td>\n",
       "      <td>Julio Perez</td>\n",
       "      <td>May 17, 2013</td>\n",
       "      <td>5.0</td>\n",
       "      <td>1299.99</td>\n",
       "      <td>R2W94ZVV3L452Z</td>\n",
       "      <td>Great device!</td>\n",
       "      <td>acer</td>\n",
       "      <td>acer aspire s7-391-6468 13.3-inch touchscreen ...</td>\n",
       "      <td>exactly as described! fast laptop. one of the ...</td>\n",
       "      <td>intel core i5-3337u 1.8 ghz (3 mb cache)\\n4 gb...</td>\n",
       "      <td>2013</td>\n",
       "    </tr>\n",
       "    <tr>\n",
       "      <th>3</th>\n",
       "      <td>B00AVYPLF4</td>\n",
       "      <td>rid1</td>\n",
       "      <td>May 5, 2013</td>\n",
       "      <td>5.0</td>\n",
       "      <td>1299.99</td>\n",
       "      <td>R1NA3QNCRJ297N</td>\n",
       "      <td>Quite good</td>\n",
       "      <td>acer</td>\n",
       "      <td>acer aspire s7-391-6468 13.3-inch touchscreen ...</td>\n",
       "      <td>i bought this laptop after doing my research a...</td>\n",
       "      <td>intel core i5-3337u 1.8 ghz (3 mb cache)\\n4 gb...</td>\n",
       "      <td>2013</td>\n",
       "    </tr>\n",
       "    <tr>\n",
       "      <th>4</th>\n",
       "      <td>B00AVYPLF4</td>\n",
       "      <td>Rev</td>\n",
       "      <td>August 21, 2013</td>\n",
       "      <td>1.0</td>\n",
       "      <td>1299.99</td>\n",
       "      <td>R1CYHY70XPLRNA</td>\n",
       "      <td>Very disappointing</td>\n",
       "      <td>acer</td>\n",
       "      <td>acer aspire s7-391-6468 13.3-inch touchscreen ...</td>\n",
       "      <td>after living with the aspire s7 for 5 months, ...</td>\n",
       "      <td>intel core i5-3337u 1.8 ghz (3 mb cache)\\n4 gb...</td>\n",
       "      <td>2013</td>\n",
       "    </tr>\n",
       "  </tbody>\n",
       "</table>\n",
       "</div>"
      ],
      "text/plain": [
       "    ProductID                    Author               Date Overall    Price  \\\n",
       "0  B00AVYPLF4  Peter in McLean \"PeterK\"  November 29, 2013     3.0  1299.99   \n",
       "1  B00AVYPLF4                    tungty      June 16, 2013     4.0  1299.99   \n",
       "2  B00AVYPLF4               Julio Perez       May 17, 2013     5.0  1299.99   \n",
       "3  B00AVYPLF4                      rid1        May 5, 2013     5.0  1299.99   \n",
       "4  B00AVYPLF4                       Rev    August 21, 2013     1.0  1299.99   \n",
       "\n",
       "         ReviewID                                              Title  Make  \\\n",
       "0  R1S7JV3G6KBOTU  Thin, light and good screen. Mediocre battery ...  acer   \n",
       "1  R2HU61RJX6H19A  Beautiful, light computer but Acer Quality Con...  acer   \n",
       "2  R2W94ZVV3L452Z                                      Great device!  acer   \n",
       "3  R1NA3QNCRJ297N                                         Quite good  acer   \n",
       "4  R1CYHY70XPLRNA                                 Very disappointing  acer   \n",
       "\n",
       "                                        Product Name  \\\n",
       "0  acer aspire s7-391-6468 13.3-inch touchscreen ...   \n",
       "1  acer aspire s7-391-6468 13.3-inch touchscreen ...   \n",
       "2  acer aspire s7-391-6468 13.3-inch touchscreen ...   \n",
       "3  acer aspire s7-391-6468 13.3-inch touchscreen ...   \n",
       "4  acer aspire s7-391-6468 13.3-inch touchscreen ...   \n",
       "\n",
       "                                             content  \\\n",
       "0  i've had the s7-391 with 4gb ram and a 256 gb ...   \n",
       "1  this would be a 5-star review if it were not f...   \n",
       "2  exactly as described! fast laptop. one of the ...   \n",
       "3  i bought this laptop after doing my research a...   \n",
       "4  after living with the aspire s7 for 5 months, ...   \n",
       "\n",
       "                                            features  Year  \n",
       "0  intel core i5-3337u 1.8 ghz (3 mb cache)\\n4 gb...  2013  \n",
       "1  intel core i5-3337u 1.8 ghz (3 mb cache)\\n4 gb...  2013  \n",
       "2  intel core i5-3337u 1.8 ghz (3 mb cache)\\n4 gb...  2013  \n",
       "3  intel core i5-3337u 1.8 ghz (3 mb cache)\\n4 gb...  2013  \n",
       "4  intel core i5-3337u 1.8 ghz (3 mb cache)\\n4 gb...  2013  "
      ]
     },
     "execution_count": 20,
     "metadata": {},
     "output_type": "execute_result"
    }
   ],
   "source": [
    "dataFrame['Price'] = dataFrame['Price'].str.strip('$')\n",
    "dataFrame['Price'] = dataFrame['Price'].str.replace('Unavailable', '')\n",
    "dataFrame['Price'] = dataFrame['Price'].str.replace(',', '')\n",
    "\n",
    "dataFrame['Price'].replace('', np.nan, inplace=True)\n",
    "dataFrame['Price'] = dataFrame['Price'].apply(pandas.to_numeric)\n",
    "dataFrame.dropna(subset=['Price'], inplace=True)\n",
    "\n",
    "dataFrame.head()"
   ]
  },
  {
   "cell_type": "code",
   "execution_count": 280,
   "metadata": {},
   "outputs": [],
   "source": [
    "dataFrame = dataFrame.set_index(['ProductID'])"
   ]
  },
  {
   "cell_type": "code",
   "execution_count": 21,
   "metadata": {},
   "outputs": [],
   "source": [
    "from collections import Counter\n",
    "\n",
    "words = dataFrame.content[2].split()\n",
    "wordCount = Counter(words)"
   ]
  },
  {
   "cell_type": "code",
   "execution_count": 22,
   "metadata": {},
   "outputs": [
    {
     "data": {
      "text/plain": [
       "Counter({u'and': 1,\n",
       "         u'around.': 1,\n",
       "         u'as': 1,\n",
       "         u'described!': 1,\n",
       "         u'exactly': 1,\n",
       "         u'extremely': 1,\n",
       "         u'fast': 1,\n",
       "         u'fast,': 1,\n",
       "         u'great': 1,\n",
       "         u'high': 1,\n",
       "         u'highly': 1,\n",
       "         u'it!': 1,\n",
       "         u'its': 1,\n",
       "         u'laptop.': 1,\n",
       "         u'of': 1,\n",
       "         u'one': 1,\n",
       "         u'practical': 1,\n",
       "         u'quality': 1,\n",
       "         u'recommend': 1,\n",
       "         u'resolution.': 1,\n",
       "         u'screen': 1,\n",
       "         u'slimmest': 1,\n",
       "         u'super': 1,\n",
       "         u'the': 1,\n",
       "         u'with': 1})"
      ]
     },
     "execution_count": 22,
     "metadata": {},
     "output_type": "execute_result"
    }
   ],
   "source": [
    "wordCount"
   ]
  },
  {
   "cell_type": "code",
   "execution_count": 23,
   "metadata": {},
   "outputs": [
    {
     "data": {
      "text/plain": [
       "166"
      ]
     },
     "execution_count": 23,
     "metadata": {},
     "output_type": "execute_result"
    }
   ],
   "source": [
    "len(dataFrame.content[2])"
   ]
  },
  {
   "cell_type": "code",
   "execution_count": 24,
   "metadata": {},
   "outputs": [
    {
     "data": {
      "text/plain": [
       "WordList([u'exactly', u'as', u'described', u'fast', u'laptop', u'one', u'of', u'the', u'slimmest', u'around', u'extremely', u'fast', u'practical', u'and', u'super', u'great', u'quality', u'screen', u'with', u'its', u'high', u'resolution', u'highly', u'recommend', u'it'])"
      ]
     },
     "execution_count": 24,
     "metadata": {},
     "output_type": "execute_result"
    }
   ],
   "source": [
    "TextBlob((dataFrame.content[2])).words"
   ]
  },
  {
   "cell_type": "code",
   "execution_count": 25,
   "metadata": {},
   "outputs": [],
   "source": [
    "from nltk.corpus import stopwords\n",
    "#nltk.download()\n",
    "import nltk\n",
    "import re\n",
    "\n",
    "def filter_stopwords1(text):\n",
    "    xt = stopwords.words(\"english\")\n",
    "    text = ' '.join([word for word in text.split() if word not in xt])\n",
    "    return text\n",
    "\n",
    "def filter_stopwords2(text):\n",
    "    pattern = re.compile(r'\\b(' + r'|'.join(stopwords.words('english')) + r')\\b\\s*')\n",
    "    return pattern.sub('', text)\n",
    "\n",
    "def filtered_words(text):\n",
    "    return re.sub(\"[^\\w]\", \" \", remove_stopwords(text)).split()"
   ]
  },
  {
   "cell_type": "code",
   "execution_count": 26,
   "metadata": {},
   "outputs": [
    {
     "data": {
      "text/plain": [
       "u'exactly described! fast laptop. one slimmest around. extremely fast, practical super great quality screen high resolution. highly recommend !'"
      ]
     },
     "execution_count": 26,
     "metadata": {},
     "output_type": "execute_result"
    }
   ],
   "source": [
    "filter_stopwords2(dataFrame.content[2])"
   ]
  },
  {
   "cell_type": "code",
   "execution_count": 27,
   "metadata": {},
   "outputs": [
    {
     "data": {
      "text/plain": [
       "WordList([u'exactly', u'described', u'fast', u'laptop', u'one', u'slimmest', u'around', u'extremely', u'fast', u'practical', u'super', u'great', u'quality', u'screen', u'high', u'resolution', u'highly', u'recommend'])"
      ]
     },
     "execution_count": 27,
     "metadata": {},
     "output_type": "execute_result"
    }
   ],
   "source": [
    "TextBlob(filter_stopwords2(dataFrame.content[2])).words"
   ]
  },
  {
   "cell_type": "code",
   "execution_count": 28,
   "metadata": {
    "scrolled": true
   },
   "outputs": [
    {
     "data": {
      "text/plain": [
       "Sentiment(classification='pos', p_pos=0.7996209910191279, p_neg=0.2003790089808724)"
      ]
     },
     "execution_count": 28,
     "metadata": {},
     "output_type": "execute_result"
    }
   ],
   "source": [
    "from textblob import TextBlob\n",
    "from textblob.sentiments import NaiveBayesAnalyzer\n",
    "blob = TextBlob(\"I love this library\", analyzer=NaiveBayesAnalyzer())\n",
    "blob.sentiment"
   ]
  },
  {
   "cell_type": "code",
   "execution_count": 29,
   "metadata": {},
   "outputs": [
    {
     "data": {
      "text/plain": [
       "u'amaze'"
      ]
     },
     "execution_count": 29,
     "metadata": {},
     "output_type": "execute_result"
    }
   ],
   "source": [
    "from nltk.stem import WordNetLemmatizer\n",
    "\n",
    "lemmatiser = WordNetLemmatizer()\n",
    "lemmatiser.lemmatize(\"amazing\", pos=\"v\")"
   ]
  },
  {
   "cell_type": "code",
   "execution_count": 30,
   "metadata": {},
   "outputs": [
    {
     "data": {
      "text/plain": [
       "'dimension'"
      ]
     },
     "execution_count": 30,
     "metadata": {},
     "output_type": "execute_result"
    }
   ],
   "source": [
    "from stemming.porter2 import stem\n",
    "stem(\"dimensionality\")"
   ]
  },
  {
   "cell_type": "code",
   "execution_count": 31,
   "metadata": {},
   "outputs": [
    {
     "data": {
      "text/html": [
       "<div>\n",
       "<style>\n",
       "    .dataframe thead tr:only-child th {\n",
       "        text-align: right;\n",
       "    }\n",
       "\n",
       "    .dataframe thead th {\n",
       "        text-align: left;\n",
       "    }\n",
       "\n",
       "    .dataframe tbody tr th {\n",
       "        vertical-align: top;\n",
       "    }\n",
       "</style>\n",
       "<table border=\"1\" class=\"dataframe\">\n",
       "  <thead>\n",
       "    <tr style=\"text-align: right;\">\n",
       "      <th></th>\n",
       "      <th>Count</th>\n",
       "    </tr>\n",
       "  </thead>\n",
       "  <tbody>\n",
       "    <tr>\n",
       "      <th>asus</th>\n",
       "      <td>2749</td>\n",
       "    </tr>\n",
       "    <tr>\n",
       "      <th>acer</th>\n",
       "      <td>2203</td>\n",
       "    </tr>\n",
       "    <tr>\n",
       "      <th>apple</th>\n",
       "      <td>1656</td>\n",
       "    </tr>\n",
       "    <tr>\n",
       "      <th>hp</th>\n",
       "      <td>1054</td>\n",
       "    </tr>\n",
       "    <tr>\n",
       "      <th>lenovo</th>\n",
       "      <td>857</td>\n",
       "    </tr>\n",
       "    <tr>\n",
       "      <th>dell</th>\n",
       "      <td>806</td>\n",
       "    </tr>\n",
       "    <tr>\n",
       "      <th>toshiba</th>\n",
       "      <td>504</td>\n",
       "    </tr>\n",
       "    <tr>\n",
       "      <th>samsung</th>\n",
       "      <td>428</td>\n",
       "    </tr>\n",
       "    <tr>\n",
       "      <th>sony</th>\n",
       "      <td>107</td>\n",
       "    </tr>\n",
       "    <tr>\n",
       "      <th>gateway</th>\n",
       "      <td>89</td>\n",
       "    </tr>\n",
       "  </tbody>\n",
       "</table>\n",
       "</div>"
      ],
      "text/plain": [
       "         Count\n",
       "asus      2749\n",
       "acer      2203\n",
       "apple     1656\n",
       "hp        1054\n",
       "lenovo     857\n",
       "dell       806\n",
       "toshiba    504\n",
       "samsung    428\n",
       "sony       107\n",
       "gateway     89"
      ]
     },
     "execution_count": 31,
     "metadata": {},
     "output_type": "execute_result"
    }
   ],
   "source": [
    "top10 = dataFrame['Make'].value_counts()[:10]\n",
    "\n",
    "top10.to_frame('Count')"
   ]
  },
  {
   "cell_type": "code",
   "execution_count": 32,
   "metadata": {},
   "outputs": [
    {
     "data": {
      "image/png": "[encoded data removed]",
      "text/plain": [
       "<matplotlib.figure.Figure at 0x116bc3bd0>"
      ]
     },
     "metadata": {},
     "output_type": "display_data"
    }
   ],
   "source": [
    "import matplotlib.pyplot as plt\n",
    "\n",
    "top10.plot(x = 'index', y = 'Count', kind = 'bar')\n",
    "plt.title(\"Top 10 most reviewed brands\")\n",
    "plt.show()"
   ]
  },
  {
   "cell_type": "code",
   "execution_count": 33,
   "metadata": {},
   "outputs": [
    {
     "data": {
      "text/plain": [
       "u'/Users/balaram_remala/Documents/GitHub/CORPUS/Project_Balaram'"
      ]
     },
     "execution_count": 33,
     "metadata": {},
     "output_type": "execute_result"
    }
   ],
   "source": [
    "pwd"
   ]
  },
  {
   "cell_type": "code",
   "execution_count": 34,
   "metadata": {
    "collapsed": true
   },
   "outputs": [],
   "source": [
    "dataFrame.to_pickle(path = '/Users/balaram_remala/Documents/GitHub/CORPUS/Project_Balaram/Data/Laptops_DataFrame', compression = None)"
   ]
  },
  {
   "cell_type": "code",
   "execution_count": 35,
   "metadata": {
    "collapsed": true
   },
   "outputs": [],
   "source": [
    "#from wordcloud import WordCloud, STOPWORDS\n",
    "\n",
    "#word_count = WordCloud().generate(' '.join(top10.Count))\n",
    "\n",
    "#plt.imshow(word_cloud)\n",
    "#plt.axis('off')\n",
    "#plt.show()"
   ]
  },
  {
   "cell_type": "markdown",
   "metadata": {},
   "source": [
    "## Applying NaiveBayes Classification on Reviews to get Positive/Negative"
   ]
  },
  {
   "cell_type": "code",
   "execution_count": 57,
   "metadata": {},
   "outputs": [],
   "source": [
    "neg_words = pandas.read_csv('Data/words/negative-words.txt',encoding='utf-8')\n",
    "neg_words['Tag'] = 'Negative'\n",
    "pos_words = pandas.read_csv('Data/words/positive-words.txt',encoding='utf-8')\n",
    "pos_words['Tag'] = 'Postive'\n",
    "#neu_words = pandas.read_csv('Data/words/neutral-words.txt',encoding='utf-8')\n",
    "#neu_words['Tag'] = 'Neutral'\n",
    "neg_words.to_csv('Data/neg_words.csv', index = None)\n",
    "pos_words.to_csv('Data/pos_words.csv', index = None)\n",
    "#neu_words.to_csv('Data/neu_words.csv', index = None)"
   ]
  },
  {
   "cell_type": "code",
   "execution_count": 61,
   "metadata": {
    "collapsed": true
   },
   "outputs": [],
   "source": [
    "import glob\n",
    "\n",
    "read_files = glob.glob(\"Data/*.csv\")\n",
    "\n",
    "with open(\"wordlist.csv\", \"wb\") as outfile:\n",
    "    for f in read_files:\n",
    "        with open(f, \"rb\") as infile:\n",
    "            outfile.write(infile.read())"
   ]
  },
  {
   "cell_type": "code",
   "execution_count": 63,
   "metadata": {},
   "outputs": [],
   "source": [
    "from textblob.classifiers import NaiveBayesClassifier\n",
    "\n",
    "with open('wordlist.csv', 'r') as fp:\n",
    "     cl = NaiveBayesClassifier(fp, format=\"csv\")"
   ]
  },
  {
   "cell_type": "code",
   "execution_count": 64,
   "metadata": {},
   "outputs": [
    {
     "data": {
      "text/plain": [
       "u'Postive'"
      ]
     },
     "execution_count": 64,
     "metadata": {},
     "output_type": "execute_result"
    }
   ],
   "source": [
    "cl.classify(filter_stopwords2(dataFrame['content'][0]))"
   ]
  },
  {
   "cell_type": "code",
   "execution_count": 65,
   "metadata": {},
   "outputs": [
    {
     "name": "stdout",
     "output_type": "stream",
     "text": [
      "Negative---\t----Thin, light and good screen. Mediocre battery life, funky WiFi and BT. Typing is miserable and frustrating.\n",
      "Negative---\t----Beautiful, light computer but Acer Quality Control is terrible.\n",
      "Postive---\t----Great device!\n",
      "Postive---\t----Quite good\n",
      "Negative---\t----Very disappointing\n",
      "Postive---\t----Excellent Ultrabook\n",
      "Negative---\t----Great machine - horrible wifi !!\n",
      "Postive---\t----Sexiest ultrabook around\n",
      "Postive---\t----Slim,light and fast but WAY TOO LOUD\n",
      "Postive---\t----Great computer!\n"
     ]
    }
   ],
   "source": [
    "#sample = df_make.Title.str.lower()\n",
    "for i in range(10):\n",
    "    print(cl.classify(dataFrame.Title[i])+ \"---\\t----\" +dataFrame.Title[i])"
   ]
  },
  {
   "cell_type": "code",
   "execution_count": 66,
   "metadata": {
    "collapsed": true
   },
   "outputs": [],
   "source": [
    "global replacements\n",
    "replacements = {  \n",
    "    \"aren't\" : \"are not\",\n",
    "    \"can't\" : \"cannot\",\n",
    "    \"couldn't\" : \"could not\",\n",
    "    \"didn't\" : \"did not\",\n",
    "    \"doesn't\" : \"does not\",\n",
    "    \"don't\" : \"do not\",\n",
    "    \"dont\" : \"do not\",\n",
    "    \":)\" : \"good\",\n",
    "    \"=)\" : \"good\",\n",
    "    \":(\" : \"bad\",\n",
    "    \"hadn't\" : \"had not\",\n",
    "    \"hasn't\" : \"has not\",\n",
    "    \"haven't\" : \"have not\",\n",
    "    \"he'd\" : \"he would\",\n",
    "    \"he'll\" : \"he will\",\n",
    "    \"he's\" : \"he is\",\n",
    "    \"i'd\" : \"I would\",\n",
    "    \"i'd\" : \"I had\",\n",
    "    \"gr8\" : \"great\",\n",
    "    \"gud\":\"good\",\n",
    "    \"i'll\" : \"I will\",\n",
    "    \"i'm\" : \"I am\",\n",
    "    \"isn't\" : \"is not\",\n",
    "    \"it's\" : \"it is\",\n",
    "    \"it'll\":\"it will\",\n",
    "    \"i've\" : \"I have\",\n",
    "    \"let's\" : \"let us\",\n",
    "    \"mightn't\" : \"might not\",\n",
    "    \"mustn't\" : \"must not\",\n",
    "    \"shan't\" : \"shall not\",\n",
    "    \"she'd\" : \"she would\",\n",
    "    \"she'll\" : \"she will\",\n",
    "    \"she's\" : \"she is\",\n",
    "    \"shouldn't\" : \"should not\",\n",
    "    \"that's\" : \"that is\",\n",
    "    \"there's\" : \"there is\",\n",
    "    \"they'd\" : \"they would\",\n",
    "    \"they'll\" : \"they will\",\n",
    "    \"they're\" : \"they are\",\n",
    "    \"they've\" : \"they have\",\n",
    "    \"we'd\" : \"we would\",\n",
    "    \"we're\" : \"we are\",\n",
    "    \"weren't\" : \"were not\",\n",
    "    \"we've\" : \"we have\",\n",
    "    \"what'll\" : \"what will\",\n",
    "    \"what're\" : \"what are\",\n",
    "    \"what's\" : \"what is\",\n",
    "    \"what've\" : \"what have\",\n",
    "    \"where's\" : \"where is\",\n",
    "    \"who'd\" : \"who would\",\n",
    "    \"who'll\" : \"who will\",\n",
    "    \"who're\" : \"who are\",\n",
    "    \"who's\" : \"who is\",\n",
    "    \"who've\" : \"who have\",\n",
    "    \"won't\" : \"will not\",\n",
    "    \"wouldn't\" : \"would not\",\n",
    "    \"you'd\" : \"you would\",\n",
    "    \"you'll\" : \"you will\",\n",
    "    \"you're\" : \"you are\",\n",
    "    \"you've\" : \"you have\",\n",
    "    \"'re\": \" are\",\n",
    "    \"wasn't\": \"was not\",\n",
    "    \"we'll\": \"will\",\n",
    "    \"didn't\": \"did not\",\n",
    "    \"luv\" : \"love\",    \n",
    "    \"r\" : \"are\",  \n",
    "    \"u\" : \"you\",\n",
    "    \"v\" : \"we\",\n",
    "    \"gonna\" : \"going to\",\n",
    "    \"lappy\": \"laptop\",\n",
    "    \"da\" : \"the\",\n",
    "    \"toppa da line\":\"top of the line\",\n",
    "    \"dis\" : \"this\",\n",
    "    \"osm\" : \"awesome\"\n",
    "    }"
   ]
  },
  {
   "cell_type": "code",
   "execution_count": 79,
   "metadata": {
    "scrolled": true
   },
   "outputs": [],
   "source": [
    "def get_tag(Content):\n",
    "    txt = filter_stopwords2(Content)\n",
    "    s = ' '.join([replacements.get(w, w) for w in txt.split()])\n",
    "    return cl.classify(s)"
   ]
  },
  {
   "cell_type": "code",
   "execution_count": 80,
   "metadata": {},
   "outputs": [
    {
     "data": {
      "text/plain": [
       "u'Postive'"
      ]
     },
     "execution_count": 80,
     "metadata": {},
     "output_type": "execute_result"
    }
   ],
   "source": [
    "get_tag(dataFrame.content[1])"
   ]
  },
  {
   "cell_type": "code",
   "execution_count": 81,
   "metadata": {},
   "outputs": [
    {
     "data": {
      "text/plain": [
       "'screen'"
      ]
     },
     "execution_count": 81,
     "metadata": {},
     "output_type": "execute_result"
    }
   ],
   "source": [
    "from autocorrect import spell\n",
    "\n",
    "spell(\"scren\")"
   ]
  },
  {
   "cell_type": "code",
   "execution_count": 276,
   "metadata": {},
   "outputs": [
    {
     "data": {
      "text/html": [
       "<div>\n",
       "<style>\n",
       "    .dataframe thead tr:only-child th {\n",
       "        text-align: right;\n",
       "    }\n",
       "\n",
       "    .dataframe thead th {\n",
       "        text-align: left;\n",
       "    }\n",
       "\n",
       "    .dataframe tbody tr th {\n",
       "        vertical-align: top;\n",
       "    }\n",
       "</style>\n",
       "<table border=\"1\" class=\"dataframe\">\n",
       "  <thead>\n",
       "    <tr style=\"text-align: right;\">\n",
       "      <th></th>\n",
       "      <th>Author</th>\n",
       "      <th>Content</th>\n",
       "      <th>Date</th>\n",
       "      <th>Name</th>\n",
       "      <th>Overall</th>\n",
       "      <th>ReviewID</th>\n",
       "      <th>Title</th>\n",
       "      <th>Make</th>\n",
       "      <th>Tag</th>\n",
       "    </tr>\n",
       "    <tr>\n",
       "      <th>ProductID</th>\n",
       "      <th></th>\n",
       "      <th></th>\n",
       "      <th></th>\n",
       "      <th></th>\n",
       "      <th></th>\n",
       "      <th></th>\n",
       "      <th></th>\n",
       "      <th></th>\n",
       "      <th></th>\n",
       "    </tr>\n",
       "  </thead>\n",
       "  <tbody>\n",
       "    <tr>\n",
       "      <th>B00005RI8P</th>\n",
       "      <td>earthangel2080</td>\n",
       "      <td>I am EXTREMELY disappointed and feel cheated. ...</td>\n",
       "      <td>February 16, 2011</td>\n",
       "      <td>Apple iBook Laptop (600-MHz PowerPC G3, 128 MB...</td>\n",
       "      <td>1.0</td>\n",
       "      <td>ROLETUTVOA02M</td>\n",
       "      <td>Disappointed</td>\n",
       "      <td>apple</td>\n",
       "      <td>Negative</td>\n",
       "    </tr>\n",
       "    <tr>\n",
       "      <th>B00005RI8P</th>\n",
       "      <td>Tammy</td>\n",
       "      <td>I absolutely hate this product. I'm a single p...</td>\n",
       "      <td>January 14, 2011</td>\n",
       "      <td>Apple iBook Laptop (600-MHz PowerPC G3, 128 MB...</td>\n",
       "      <td>1.0</td>\n",
       "      <td>RIPGZW4IT9OT2</td>\n",
       "      <td>Apple ibook laptop</td>\n",
       "      <td>apple</td>\n",
       "      <td>Neutral</td>\n",
       "    </tr>\n",
       "    <tr>\n",
       "      <th>B00005RI8P</th>\n",
       "      <td>None</td>\n",
       "      <td>My first Mac after using PCs for years.  I see...</td>\n",
       "      <td>November 7, 2001</td>\n",
       "      <td>Apple iBook Laptop (600-MHz PowerPC G3, 128 MB...</td>\n",
       "      <td>5.0</td>\n",
       "      <td>R2PVWYS3KJTHSM</td>\n",
       "      <td>Love it!</td>\n",
       "      <td>apple</td>\n",
       "      <td>Postive</td>\n",
       "    </tr>\n",
       "    <tr>\n",
       "      <th>B00005RI8P</th>\n",
       "      <td>None</td>\n",
       "      <td>This is a really great product. It can do anyt...</td>\n",
       "      <td>September 18, 2001</td>\n",
       "      <td>Apple iBook Laptop (600-MHz PowerPC G3, 128 MB...</td>\n",
       "      <td>5.0</td>\n",
       "      <td>RAZXK8MKNN669</td>\n",
       "      <td>Great</td>\n",
       "      <td>apple</td>\n",
       "      <td>Postive</td>\n",
       "    </tr>\n",
       "    <tr>\n",
       "      <th>B00005RI8P</th>\n",
       "      <td>None</td>\n",
       "      <td>If you want to buy an iBook, buy a faster one....</td>\n",
       "      <td>August 7, 2002</td>\n",
       "      <td>Apple iBook Laptop (600-MHz PowerPC G3, 128 MB...</td>\n",
       "      <td>1.0</td>\n",
       "      <td>REIENEXZ05N96</td>\n",
       "      <td>Too slow</td>\n",
       "      <td>apple</td>\n",
       "      <td>Negative</td>\n",
       "    </tr>\n",
       "  </tbody>\n",
       "</table>\n",
       "</div>"
      ],
      "text/plain": [
       "                    Author                                            Content  \\\n",
       "ProductID                                                                       \n",
       "B00005RI8P  earthangel2080  I am EXTREMELY disappointed and feel cheated. ...   \n",
       "B00005RI8P           Tammy  I absolutely hate this product. I'm a single p...   \n",
       "B00005RI8P            None  My first Mac after using PCs for years.  I see...   \n",
       "B00005RI8P            None  This is a really great product. It can do anyt...   \n",
       "B00005RI8P            None  If you want to buy an iBook, buy a faster one....   \n",
       "\n",
       "                          Date  \\\n",
       "ProductID                        \n",
       "B00005RI8P   February 16, 2011   \n",
       "B00005RI8P    January 14, 2011   \n",
       "B00005RI8P    November 7, 2001   \n",
       "B00005RI8P  September 18, 2001   \n",
       "B00005RI8P      August 7, 2002   \n",
       "\n",
       "                                                         Name Overall  \\\n",
       "ProductID                                                               \n",
       "B00005RI8P  Apple iBook Laptop (600-MHz PowerPC G3, 128 MB...     1.0   \n",
       "B00005RI8P  Apple iBook Laptop (600-MHz PowerPC G3, 128 MB...     1.0   \n",
       "B00005RI8P  Apple iBook Laptop (600-MHz PowerPC G3, 128 MB...     5.0   \n",
       "B00005RI8P  Apple iBook Laptop (600-MHz PowerPC G3, 128 MB...     5.0   \n",
       "B00005RI8P  Apple iBook Laptop (600-MHz PowerPC G3, 128 MB...     1.0   \n",
       "\n",
       "                  ReviewID               Title   Make       Tag  \n",
       "ProductID                                                        \n",
       "B00005RI8P   ROLETUTVOA02M        Disappointed  apple  Negative  \n",
       "B00005RI8P   RIPGZW4IT9OT2  Apple ibook laptop  apple   Neutral  \n",
       "B00005RI8P  R2PVWYS3KJTHSM            Love it!  apple   Postive  \n",
       "B00005RI8P   RAZXK8MKNN669               Great  apple   Postive  \n",
       "B00005RI8P   REIENEXZ05N96            Too slow  apple  Negative  "
      ]
     },
     "execution_count": 276,
     "metadata": {},
     "output_type": "execute_result"
    }
   ],
   "source": [
    "dataFrame[15:20]"
   ]
  },
  {
   "cell_type": "markdown",
   "metadata": {},
   "source": [
    "### Review Analysis Based on Positive/Negative Counts"
   ]
  },
  {
   "cell_type": "code",
   "execution_count": 63,
   "metadata": {},
   "outputs": [
    {
     "data": {
      "image/png": "[encoded data removed]",
      "text/plain": [
       "<matplotlib.figure.Figure at 0x1a1848c390>"
      ]
     },
     "metadata": {},
     "output_type": "display_data"
    }
   ],
   "source": [
    "tag_count = dataFrame.Tag.value_counts().to_frame('Tag Counts')\n",
    "\n",
    "tag_count.plot(y = 'Tag Counts', kind = 'bar',rot = False)\n",
    "plt.title(\"Count of Pos/Neg/Neutral Reviews\")\n",
    "plt.show()"
   ]
  },
  {
   "cell_type": "code",
   "execution_count": 96,
   "metadata": {},
   "outputs": [
    {
     "data": {
      "image/png": "[encoded data removed]",
      "text/plain": [
       "<matplotlib.figure.Figure at 0x1a1906d610>"
      ]
     },
     "metadata": {},
     "output_type": "display_data"
    }
   ],
   "source": [
    "df_make_pos = dataFrame[(dataFrame['Tag'] == 'Postive')]\n",
    "\n",
    "df_plot_pos = df_make_pos['Make'].value_counts()[:10].to_frame(\"Make Counts\")\n",
    "\n",
    "df_plot_pos.plot(y = 'Make Counts', kind = 'bar')\n",
    "plt.title(\"Count of 10 Brands with Highest Positive Ratings\")\n",
    "plt.show()"
   ]
  },
  {
   "cell_type": "code",
   "execution_count": 97,
   "metadata": {},
   "outputs": [
    {
     "data": {
      "image/png": "[encoded data removed]",
      "text/plain": [
       "<matplotlib.figure.Figure at 0x10f5852d0>"
      ]
     },
     "metadata": {},
     "output_type": "display_data"
    }
   ],
   "source": [
    "df_make_neg = dataFrame[(dataFrame['Tag'] == 'Negative')]\n",
    "\n",
    "df_plot_neg = df_make_neg['Make'].value_counts()[:10].to_frame(\"Make Counts\")\n",
    "\n",
    "df_plot_neg.plot(y = 'Make Counts', kind = 'bar')\n",
    "plt.title(\"Count of 10 Brands with Highest Negative Ratings\")\n",
    "plt.show()"
   ]
  },
  {
   "cell_type": "code",
   "execution_count": 108,
   "metadata": {
    "collapsed": true
   },
   "outputs": [],
   "source": [
    "df_tag_prop = df_plot_pos / df_plot_neg\n",
    "df_tag_prop = df_tag_prop.rename(columns= {\"Make Counts\":\"Ratio\"})"
   ]
  },
  {
   "cell_type": "code",
   "execution_count": 109,
   "metadata": {},
   "outputs": [
    {
     "data": {
      "text/html": [
       "<div>\n",
       "<style>\n",
       "    .dataframe thead tr:only-child th {\n",
       "        text-align: right;\n",
       "    }\n",
       "\n",
       "    .dataframe thead th {\n",
       "        text-align: left;\n",
       "    }\n",
       "\n",
       "    .dataframe tbody tr th {\n",
       "        vertical-align: top;\n",
       "    }\n",
       "</style>\n",
       "<table border=\"1\" class=\"dataframe\">\n",
       "  <thead>\n",
       "    <tr style=\"text-align: right;\">\n",
       "      <th></th>\n",
       "      <th>Ratio</th>\n",
       "    </tr>\n",
       "  </thead>\n",
       "  <tbody>\n",
       "    <tr>\n",
       "      <th>samsung</th>\n",
       "      <td>4.277778</td>\n",
       "    </tr>\n",
       "    <tr>\n",
       "      <th>apple</th>\n",
       "      <td>3.867982</td>\n",
       "    </tr>\n",
       "    <tr>\n",
       "      <th>acer</th>\n",
       "      <td>3.296552</td>\n",
       "    </tr>\n",
       "    <tr>\n",
       "      <th>gateway</th>\n",
       "      <td>2.979167</td>\n",
       "    </tr>\n",
       "    <tr>\n",
       "      <th>asus</th>\n",
       "      <td>2.639328</td>\n",
       "    </tr>\n",
       "    <tr>\n",
       "      <th>toshiba</th>\n",
       "      <td>2.509091</td>\n",
       "    </tr>\n",
       "    <tr>\n",
       "      <th>hp</th>\n",
       "      <td>2.454849</td>\n",
       "    </tr>\n",
       "    <tr>\n",
       "      <th>dell</th>\n",
       "      <td>2.407950</td>\n",
       "    </tr>\n",
       "    <tr>\n",
       "      <th>lenovo</th>\n",
       "      <td>2.221925</td>\n",
       "    </tr>\n",
       "    <tr>\n",
       "      <th>sony</th>\n",
       "      <td>1.904762</td>\n",
       "    </tr>\n",
       "  </tbody>\n",
       "</table>\n",
       "</div>"
      ],
      "text/plain": [
       "            Ratio\n",
       "samsung  4.277778\n",
       "apple    3.867982\n",
       "acer     3.296552\n",
       "gateway  2.979167\n",
       "asus     2.639328\n",
       "toshiba  2.509091\n",
       "hp       2.454849\n",
       "dell     2.407950\n",
       "lenovo   2.221925\n",
       "sony     1.904762"
      ]
     },
     "execution_count": 109,
     "metadata": {},
     "output_type": "execute_result"
    }
   ],
   "source": [
    "df_tag_prop.sort_values([('Ratio')],ascending = False)"
   ]
  },
  {
   "cell_type": "code",
   "execution_count": 128,
   "metadata": {},
   "outputs": [
    {
     "data": {
      "text/plain": [
       "<matplotlib.figure.Figure at 0x1a1848c450>"
      ]
     },
     "metadata": {},
     "output_type": "display_data"
    },
    {
     "data": {
      "image/png": "[encoded data removed]",
      "text/plain": [
       "<matplotlib.figure.Figure at 0x1a18f146d0>"
      ]
     },
     "metadata": {},
     "output_type": "display_data"
    },
    {
     "data": {
      "text/plain": [
       "<matplotlib.figure.Figure at 0x1a18fdc5d0>"
      ]
     },
     "execution_count": 128,
     "metadata": {},
     "output_type": "execute_result"
    }
   ],
   "source": [
    "df_tag_prop.plot(y = 'Ratio', kind = 'line', rot = True)\n",
    "plt.title(\"Proportions of pos:neg for top 10 Brands\")\n",
    "plt.show()"
   ]
  },
  {
   "cell_type": "code",
   "execution_count": null,
   "metadata": {
    "collapsed": true
   },
   "outputs": [],
   "source": []
  }
 ],
 "metadata": {
  "kernelspec": {
   "display_name": "Python 3",
   "language": "python",
   "name": "python3"
  },
  "language_info": {
   "codemirror_mode": {
    "name": "ipython",
    "version": 3
   },
   "file_extension": ".py",
   "mimetype": "text/x-python",
   "name": "python",
   "nbconvert_exporter": "python",
   "pygments_lexer": "ipython3",
   "version": "3.7.1"
  }
 },
 "nbformat": 4,
 "nbformat_minor": 2
}
